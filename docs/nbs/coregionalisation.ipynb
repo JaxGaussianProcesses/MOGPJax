{
 "cells": [
  {
   "cell_type": "code",
   "execution_count": null,
   "metadata": {},
   "outputs": [],
   "source": [
    "import mogpjax as mpx\n",
    "import jax.numpy as jnp\n",
    "import matplotlib.pyplot as plt\n",
    "import jax.random as jr\n",
    "import pandas as pd \n",
    "\n",
    "key = jr.PRNGKey(123)"
   ]
  },
  {
   "cell_type": "markdown",
   "metadata": {},
   "source": [
    "## Synthetic data generation\n",
    "\n",
    "We generate synthetic data according to\n",
    "$$\\begin{align}\n",
    "y_1(x) & = -\\frac{\\sin(10\\pi(x+1))}{2x+1} - x^4 + \\varepsilon_1 \\\\\n",
    "y_2(x) & = \\cos^2(y_1(x)) + \\sin(3x) + \\varepsilon_2 \\\\\n",
    "y_3(x) & = y_2(x)y_1^2(x) + 3x + \\varepsilon_3\\,,\n",
    "\\end{align}$$\n",
    "where $\\varepsilon_1, \\varepsilon_2, \\varepsilon_3 \\sim \\mathcal{N}(0, 0.05)$, as per <strong data-cite=\"requeima2019gaussian\"></strong>"
   ]
  },
  {
   "cell_type": "code",
   "execution_count": null,
   "metadata": {},
   "outputs": [],
   "source": [
    "n = 100\n",
    "noise = 0.05\n",
    "\n",
    "f1 = lambda x: -jnp.sin(10*jnp.pi*(x+1))/(2*x + 1)-jnp.power(x, 4)\n",
    "f2 = lambda x: jnp.square(jnp.cos(f1(x)))+jnp.sin(3*x)\n",
    "f3 = lambda x: jnp.square(f1(x))*f2(x) + 3*x \n",
    "\n",
    "x = jnp.linspace(0, 1, n)\n",
    "\n",
    "\n",
    "y1 = f1(x) + jr.normal(key, shape=(n, ))*noise\n",
    "key, subkey = jr.split(key)\n",
    "y2 = f2(x) + jr.normal(subkey, shape=(n, ))*noise\n",
    "key, subkey = jr.split(key)\n",
    "y3 = f3(x) + jr.normal(subkey, shape=(n, ))*noise\n",
    "\n",
    "fig, ax = plt.subplots(1, 1, figsize=(8, 4))\n",
    "ax.plot(x, y1, label=r'$y_1$')\n",
    "ax.plot(x, y2, label=r'$y_2$')\n",
    "ax.plot(x, y3, label=r'$y_3$')\n",
    "ax.legend(loc='best')\n",
    "ax.spines['right'].set_visible(False)\n",
    "ax.spines['top'].set_visible(False)"
   ]
  },
  {
   "cell_type": "markdown",
   "metadata": {},
   "source": [
    "## Jura Dataset\n",
    "\n",
    "The Jura data from <strong data-cite=\"goovaerts1997geostatistics\"></strong> contains 259 spatial coordinates. At each coordinate, we observe a 3-dimensional vector containing nickel, zinc, and cadmium measurements. At test time, we have 100 coordinates for which we only measure nickel and zinc, and the task is to then condition on these observations to predict cadmium."
   ]
  },
  {
   "cell_type": "code",
   "execution_count": null,
   "metadata": {},
   "outputs": [],
   "source": [
    "colnames = {\"Xloc\": \"x\", \"Yloc\": \"y\", \"Landuse\": \"land\", \"Rock\": \"rock\"}\n",
    "\n",
    "train = pd.read_csv('data/jura/prediction.dat', sep=r'\\s+')\n",
    "train.columns = [colnames[c] if c in colnames else c for c in train.columns]\n",
    "train.set_index([\"x\", \"y\"], inplace=True)\n",
    "\n",
    "test = pd.read_csv('data/jura/validation.dat', sep=r'\\s+')\n",
    "test.columns = [colnames[c] if c in colnames else c for c in test.columns]\n",
    "test.set_index([\"x\", \"y\"], inplace=True)\n",
    "\n",
    "train = pd.concat([train[[\"Ni\", \"Zn\", \"Cd\"]], test[[\"Ni\", \"Zn\"]]])\n",
    "test = test[[\"Cd\"]]\n",
    "\n",
    "train.head()"
   ]
  },
  {
   "cell_type": "code",
   "execution_count": null,
   "metadata": {},
   "outputs": [],
   "source": []
  }
 ],
 "metadata": {
  "kernelspec": {
   "display_name": "Python 3.8.13 ('MOGPJax')",
   "language": "python",
   "name": "python3"
  },
  "language_info": {
   "codemirror_mode": {
    "name": "ipython",
    "version": 3
   },
   "file_extension": ".py",
   "mimetype": "text/x-python",
   "name": "python",
   "nbconvert_exporter": "python",
   "pygments_lexer": "ipython3",
   "version": "3.8.13"
  },
  "vscode": {
   "interpreter": {
    "hash": "34800bec2c1e12b1403b863e396b686c3acff8981808c280c035329d362d3a2c"
   }
  }
 },
 "nbformat": 4,
 "nbformat_minor": 2
}

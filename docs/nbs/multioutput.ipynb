{
 "cells": [
  {
   "cell_type": "code",
   "execution_count": null,
   "metadata": {},
   "outputs": [],
   "source": [
    "import mogpjax as mgpx \n",
    "import gpjax as gpx\n",
    "import matplotlib.pyplot as plt \n",
    "import jax.numpy as jnp\n",
    "import jax \n",
    "import jax.random as jr \n",
    "import jax.scipy as jsp\n",
    "\n",
    "key = jr.PRNGKey(123)"
   ]
  },
  {
   "cell_type": "markdown",
   "metadata": {},
   "source": [
    "$$\\begin{align}\n",
    "y_1(x) & = -\\frac{\\sin(10\\pi(x+1))}{2x+1} - x^4 + \\varepsilon_1 \\\\\n",
    "y_2(x) & = \\cos^2(y_1(x)) + \\sin(3x) + \\varepsilon_2 \\\\\n",
    "y_3(x) & = y_2(x)y_1^2(x) + 3x + \\varepsilon_3\\,,\n",
    "\\end{align}$$"
   ]
  },
  {
   "cell_type": "code",
   "execution_count": null,
   "metadata": {},
   "outputs": [],
   "source": []
  },
  {
   "cell_type": "code",
   "execution_count": null,
   "metadata": {},
   "outputs": [],
   "source": [
    "n = 20\n",
    "noise = 0.05\n",
    "\n",
    "f1 = lambda x: -jnp.sin(10*jnp.pi*(x+1))/(2*x + 1)-jnp.power(x, 4)\n",
    "f2 = lambda x: jnp.square(jnp.cos(f1(x)))+jnp.sin(3*x)\n",
    "f3 = lambda x: jnp.square(f1(x))*f2(x) + 3*x \n",
    "\n",
    "x = jnp.linspace(0, 1, n)\n",
    "\n",
    "y1 = f1(x) + jr.normal(key, shape=(n, ))*noise\n",
    "key, subkey = jr.split(key)\n",
    "y2 = f2(x) + jr.normal(subkey, shape=(n, ))*noise\n",
    "key, subkey = jr.split(key)\n",
    "y3 = f3(x) + jr.normal(subkey, shape=(n, ))*noise\n",
    "\n",
    "fig, ax = plt.subplots(1, 1, figsize=(8, 4))\n",
    "ax.plot(x, y1, label=r'$y_1$')\n",
    "ax.plot(x, y2, label=r'$y_2$')\n",
    "ax.plot(x, y3, label=r'$y_3$')\n",
    "ax.legend(loc='best')\n",
    "ax.spines['right'].set_visible(False)\n",
    "ax.spines['top'].set_visible(False)"
   ]
  },
  {
   "cell_type": "code",
   "execution_count": null,
   "metadata": {},
   "outputs": [],
   "source": [
    "X = x.reshape(-1, 1)\n",
    "Y = jnp.stack([y1, y2, y3], axis=1)\n",
    "\n",
    "n_data, n_tasks = Y.shape"
   ]
  },
  {
   "cell_type": "code",
   "execution_count": null,
   "metadata": {},
   "outputs": [],
   "source": [
    "from typing import Dict, List\n",
    "from chex import dataclass\n",
    "from gpjax.utils import concat_dictionaries\n",
    "from gpjax.parameters import ParameterState\n",
    "from jaxtyping import f64\n",
    "\n",
    "\n",
    "task_kernel = gpx.kernels.Matern32(active_dims=[0, 1, 2])\n",
    "data_kernel = gpx.kernels.Matern32()\n",
    "\n",
    "\n",
    "@dataclass\n",
    "class MultiOutputKernel:\n",
    "    task_kernel: gpx.kernels.Kernel\n",
    "    data_kernel: gpx.kernels.Kernel\n",
    "    task_idxs: List[int] = None \n",
    "\n",
    "    def __post_init__(self):\n",
    "        if self.task_idxs is None:\n",
    "            self.task_idxs = self.task_kernel.active_dims\n",
    "\n",
    "    def _initialise_params(self, key: jnp.DeviceArray) -> Dict:\n",
    "        task_params = self.task_kernel._initialise_params(key)\n",
    "        data_params = self.data_kernel._initialise_params(key)\n",
    "        params = {'task_params': task_params, 'data_params': data_params}\n",
    "        return params\n",
    "\n",
    "    def __call__(self, x: f64[\"1 D\"], y: f64[\"1 D\"], params: dict) -> f64[\"1\"]:\n",
    "        Kxx = self.data_kernel(x, x, params['data_params'])\n",
    "        Kii = gpx.kernels.gram(self.task_kernel, jnp.array(self.task_idxs).reshape(-1, 1), params['task_params'])\n",
    "        return Kxx*Kii\n",
    "\n",
    "\n",
    "mo_kernel = MultiOutputKernel(task_kernel=task_kernel, data_kernel=data_kernel)\n",
    "\n",
    "p = gpx.Prior(kernel= mo_kernel) * gpx.Gaussian(num_datapoints=n_data*n_tasks)\n",
    "parameter_state = gpx.initialise(p, key)\n",
    "parameter_state.params"
   ]
  },
  {
   "cell_type": "code",
   "execution_count": null,
   "metadata": {},
   "outputs": [],
   "source": [
    "mo_kernel(X[:1, :], X[:1, :], parameter_state.params)"
   ]
  },
  {
   "cell_type": "code",
   "execution_count": null,
   "metadata": {},
   "outputs": [],
   "source": [
    "Kxx = gpx.kernels.gram(mo_kernel, X, parameter_state.params).reshape(n_data*n_tasks, n_data*n_tasks)\n",
    "\n",
    "fig, ax = plt.subplots(figsize=(15, 12))\n",
    "ax.matshow(Kxx[:20, :20])"
   ]
  },
  {
   "cell_type": "code",
   "execution_count": null,
   "metadata": {},
   "outputs": [],
   "source": [
    "\n",
    "\n",
    "noise_matrix = jnp.hstack([jnp.vstack([jnp.eye(n_tasks)*noise]*n_data)]*n_data)\n",
    "plt.matshow(noise_matrix)"
   ]
  },
  {
   "cell_type": "code",
   "execution_count": null,
   "metadata": {},
   "outputs": [],
   "source": [
    "Kxx_noise = Kxx + noise_matrix"
   ]
  },
  {
   "cell_type": "code",
   "execution_count": null,
   "metadata": {},
   "outputs": [],
   "source": [
    "D = gpx.Dataset(X=X, y=Y.reshape(-1, 1))"
   ]
  },
  {
   "cell_type": "code",
   "execution_count": null,
   "metadata": {},
   "outputs": [],
   "source": [
    "parameter_state.params"
   ]
  },
  {
   "cell_type": "code",
   "execution_count": null,
   "metadata": {},
   "outputs": [],
   "source": [
    "import distrax as dx\n",
    "\n",
    "def mll(\n",
    "    params: dict,\n",
    "):\n",
    "    # Observation noise σ²\n",
    "    obs_noise = 0.\n",
    "    Kxx = gpx.kernels.gram(mo_kernel, x, params[\"kernel\"]).reshape(n_data*n_tasks, n_data*n_tasks)\n",
    "    Kxx += jnp.hstack([jnp.vstack([jnp.eye(n_tasks)*1e-6]*n_data)]*n_data)\n",
    "\n",
    "    # Σ = (Kxx + Iσ²) = LLᵀ\n",
    "    Sigma = Kxx +jnp.hstack([jnp.vstack([jnp.eye(n_tasks)*noise]*n_data)]*n_data)\n",
    "    L = jnp.linalg.cholesky(Sigma)\n",
    "\n",
    "    # p(y | x, θ), where θ are the model hyperparameters:\n",
    "    marginal_likelihood = dx.MultivariateNormalTri(\n",
    "        jnp.atleast_1d(jnp.zeros(n_data*n_tasks)), L\n",
    "    )\n",
    "\n",
    "    constant = jnp.array(-1.0)\n",
    "    return constant * (marginal_likelihood.log_prob(jnp.atleast_1d(Y.reshape(-1, 1).squeeze())).squeeze())\n"
   ]
  },
  {
   "cell_type": "code",
   "execution_count": null,
   "metadata": {},
   "outputs": [],
   "source": [
    "mll(parameter_state.params)"
   ]
  },
  {
   "cell_type": "code",
   "execution_count": null,
   "metadata": {},
   "outputs": [],
   "source": [
    "parameter_state."
   ]
  }
 ],
 "metadata": {
  "kernelspec": {
   "display_name": "Python 3.8.13 ('MOGPJax')",
   "language": "python",
   "name": "python3"
  },
  "language_info": {
   "codemirror_mode": {
    "name": "ipython",
    "version": 3
   },
   "file_extension": ".py",
   "mimetype": "text/x-python",
   "name": "python",
   "nbconvert_exporter": "python",
   "pygments_lexer": "ipython3",
   "version": "3.8.13"
  },
  "vscode": {
   "interpreter": {
    "hash": "34800bec2c1e12b1403b863e396b686c3acff8981808c280c035329d362d3a2c"
   }
  }
 },
 "nbformat": 4,
 "nbformat_minor": 2
}
